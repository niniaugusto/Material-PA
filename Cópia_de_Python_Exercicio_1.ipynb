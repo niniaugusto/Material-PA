{
  "nbformat": 4,
  "nbformat_minor": 0,
  "metadata": {
    "colab": {
      "provenance": []
    },
    "kernelspec": {
      "name": "python3",
      "display_name": "Python 3"
    },
    "language_info": {
      "name": "python"
    }
  },
  "cells": [
    {
      "cell_type": "markdown",
      "source": [
        "# **1 - Usando os recursos que vimos até agora, elabore um programa simples que faça os cálculos matemáticos básicos de 2 numeros. Exemplo: 2+2 ou 2/2 etc.**\n",
        "\n",
        "\n",
        "a) o programa deve pedir ao usuário para digitar o nome completo e validar se ele digitou um nome completo para continua, senão abortar programa;\n",
        "\n",
        "b) o programa deve exibir um menu com as opções matemáticas para o usuário escolher, em seguida pedir para digitar os 2 números (um de cada vez);\n",
        "\n",
        "c) O programa deve exibir a resposta do cálculo com casas decimais e perguntar se o usuário deseja saír ou fazer um novo cálculo;\n",
        "\n",
        "d) Caso o usuário saia em algum momento do programa, devemos agradecer chamando ele apenas pelo primeiro nome, o histórico dos cálculos que ele fez e a data hora que ele encerrou;\n",
        "\n",
        "Dicas:\n",
        "\n",
        "- print(\"\") exibe texto;\n",
        "- print(\"\" + \"\") exibe concatenando textos;\n",
        "- print(\"\", \"\") exibe concatenando textos;\n",
        "- variavelLista = list() cria uma variavel sendo uma lista editavel;\n",
        "- try:  int(variavelX) força uma variável a se tornar um inteiro;\n",
        "- except ValueError: executa algo que queira se o try falhou com erro\n",
        "- float usado para números decimais;\n",
        "- from datetime import datetime importa biblioteca para usar data e hora;\n",
        "- input(\"Digite um valor\") cria um campo para o usuário digitar algo e armazena;\n",
        "- def cria uma função para retornar algum valor ou executar algo;\n",
        "- nomeDaFuncao() chama uma função;\n",
        "- if, elif, else: usado para condições e verificação de valores;\n",
        "- return encerra um if ou uma função;\n",
        "- [print(conteudo) for conteudo in variavelLista] exibe percorrendo uma lista;\n",
        "- .clear limpa uma lista\n",
        "- .insert(x,y) insere um valor em uma posição de uma lista\n",
        "- global nomeVariavel cria uma variavel para ser usada em todo o programa;\n",
        "- variavel.lower() mostra em minúscula\n",
        "- variavel.upper() mostra em maiúscula\n",
        "- variavel.split() recorta string ou lista em partes de acordo com parâmetro;\n",
        "- nomeLista[3] retorna o conteúdo da posição 4 da lista (indice 3)\n",
        "- datetime.today() retorna a data e hora em formato americano\n",
        "\n"
      ],
      "metadata": {
        "id": "4jzanlkETIfw"
      }
    },
    {
      "cell_type": "code",
      "source": [
        "from datetime import datetime\n",
        "\n",
        "def validar_nome_completo():\n",
        "    nome_completo = input(\"Digite seu nome completo: \")\n",
        "    if len(nome_completo.split()) < 2:\n",
        "        print(\"Por favor, digite um nome completo.\")\n",
        "        return False, \"\"\n",
        "    else:\n",
        "        return True, nome_completo.split()[0]\n",
        "\n",
        "def realizar_operacao(operacao, num1, num2):\n",
        "    if operacao == 1:\n",
        "        return num1 + num2\n",
        "    elif operacao == 2:\n",
        "        return num1 - num2\n",
        "    elif operacao == 3:\n",
        "        return num1 * num2\n",
        "    elif operacao == 4:\n",
        "        return num1 / num2\n",
        "\n",
        "def main():\n",
        "    valido, primeiro_nome = validar_nome_completo()\n",
        "    if not valido:\n",
        "        return\n",
        "\n",
        "    historico_calculos = []\n",
        "    continuar = True\n",
        "\n",
        "    while continuar:\n",
        "        print(\"\\nOpções de operações:\")\n",
        "        print(\"1. Soma\")\n",
        "        print(\"2. Subtração\")\n",
        "        print(\"3. Multiplicação\")\n",
        "        print(\"4. Divisão\")\n",
        "\n",
        "        try:\n",
        "            escolha = int(input(\"Escolha uma operação (1/2/3/4): \"))\n",
        "            if escolha < 1 or escolha > 4:\n",
        "                print(\"Opção inválida. Por favor, escolha uma opção válida.\")\n",
        "                continue\n",
        "        except ValueError:\n",
        "            print(\"Por favor, digite um número válido.\")\n",
        "            continue\n",
        "\n",
        "        num1 = float(input(\"Digite o primeiro número: \"))\n",
        "        num2 = float(input(\"Digite o segundo número: \"))\n",
        "\n",
        "        resultado = realizar_operacao\n"
      ],
      "metadata": {
        "id": "los9fn6MFEXu"
      },
      "execution_count": 8,
      "outputs": []
    }
  ]
}